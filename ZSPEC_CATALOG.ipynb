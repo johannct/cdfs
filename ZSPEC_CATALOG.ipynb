{
 "cells": [
  {
   "cell_type": "code",
   "execution_count": null,
   "id": "a3a475fc-640b-407b-aaaa-e2b58f30a02e",
   "metadata": {},
   "outputs": [],
   "source": [
    "import matplotlib.pyplot as plt\n",
    "import numpy as np\n",
    "import pandas as pd\n",
    "from astropy.io import fits\n",
    "from astropy.table import Table\n",
    "\n"
   ]
  },
  {
   "cell_type": "code",
   "execution_count": null,
   "id": "c1ca3c50-50dd-4985-9adb-a1192d7e6d65",
   "metadata": {},
   "outputs": [],
   "source": [
    "import astropy.units as u\n",
    "from astropy.coordinates import SkyCoord\n",
    "from astropy.cosmology import WMAP9 as cosmo"
   ]
  },
  {
   "cell_type": "markdown",
   "id": "8d6790de-97be-45b5-a4dc-c9d3c5365670",
   "metadata": {},
   "source": [
    "# LET'S START WITH THE MASTER CATALOG FROM GOODS-S"
   ]
  },
  {
   "cell_type": "code",
   "execution_count": null,
   "id": "849a7bab-dbbb-4cdc-82da-78c7994352bf",
   "metadata": {},
   "outputs": [],
   "source": [
    "master_cat = pd.read_fwf(\"data/MASTERCAT_v3.0.dat\", sep=\" \", skiprows=62, header=None)\n",
    "master_cat.columns = [\"id\", \"location\", \"location2\", \"RA\", \"DEC\", \"ZSPEC\", \"Quality\"]\n",
    "#add a column to keep track of which cat the line in the DF comes from\n",
    "master_cat['Source'] = 'Master'"
   ]
  },
  {
   "cell_type": "code",
   "execution_count": null,
   "id": "98ee8c9e-b936-49d3-984d-a19f436cddc7",
   "metadata": {},
   "outputs": [],
   "source": [
    "plt.scatter(master_cat['RA'], master_cat['DEC'], s = 0.1, c = master_cat['ZSPEC'], vmax = 4)\n",
    "plt.colorbar(label = 'Redshift')\n",
    "plt.figure()\n",
    "plt.hist(master_cat['ZSPEC'], bins=100);"
   ]
  },
  {
   "cell_type": "code",
   "execution_count": null,
   "id": "3741a79a-35aa-473b-8cb1-e776a3d2d7c9",
   "metadata": {},
   "outputs": [],
   "source": [
    "master_cat[master_cat['id']==18][\"Quality\"]"
   ]
  },
  {
   "cell_type": "markdown",
   "id": "52a8c0d4-5b72-4ddf-97c2-b30b4ca87cd9",
   "metadata": {},
   "source": [
    "The first thing we notice is that while in the header it is written \"3,4,5,6,7,10,11,13:   NO QF provided\", all the GMASS quality flag (id=18) are missing. They can be retrieved from the web server at http://archive.eso.org/wdb/wdb/vo/goods_CDFS_master/form (local file wdb_query_13059_eso.csv)"
   ]
  },
  {
   "cell_type": "code",
   "execution_count": null,
   "id": "ded26edd-06e7-4ac5-9186-3a04c5badd30",
   "metadata": {},
   "outputs": [],
   "source": [
    "goods_web = pd.read_csv(\"data/wdb_query_13059_eso.csv\", comment=\"#\")\n",
    "#Let's make sure that the entries are in the same order\n",
    "gmass_master = master_cat[master_cat[\"id\"]==18]\n",
    "assert len(goods_web)==len(gmass_master)\n",
    "assert np.all(np.array(goods_web[\"Spect. z\"])==np.array(gmass_master[\"ZSPEC\"]))"
   ]
  },
  {
   "cell_type": "code",
   "execution_count": null,
   "id": "fa48bf17-acbc-4958-9c6e-8feb7fd66660",
   "metadata": {},
   "outputs": [],
   "source": [
    "#Reassign the quality flag to the GMASS. This is 0 or 1, 1 being a secure redshift\n",
    "master_cat.loc[master_cat[\"id\"]==18, \"Quality\"] = np.array(goods_web[\"Quality flag\"])\n",
    "master_cat.loc[master_cat[\"id\"]==18, \"Source\"] = \"Master+web\"\n",
    "master_cat[master_cat['id']==18]"
   ]
  },
  {
   "cell_type": "markdown",
   "id": "1446587d-ef28-4a7e-b436-3aa240c6ef2f",
   "metadata": {},
   "source": [
    "Next we need to deal with the entries in master catalogue without quality flags, as we want to be able to select secure zspec. These are INDEF in the ascii file, but pandas ends up keeping only the letter F"
   ]
  },
  {
   "cell_type": "code",
   "execution_count": null,
   "id": "00e229cb-c9b5-4f58-974b-e5b6713b3ed3",
   "metadata": {},
   "outputs": [],
   "source": [
    "no_qf_mask = master_cat[\"Quality\"]==\"F\"\n",
    "#we can check that it is equivalent to\n",
    "#indef_mask = np.logical_or(master_cat[\"id\"]==3, master_cat[\"id\"]==4)\n",
    "#indef_mask = np.logical_or(indef_mask, master_cat[\"id\"]==5)\n",
    "#indef_mask = np.logical_or(indef_mask, master_cat[\"id\"]==6)\n",
    "#indef_mask = np.logical_or(indef_mask, master_cat[\"id\"]==7)\n",
    "#indef_mask = np.logical_or(indef_mask, master_cat[\"id\"]==10)\n",
    "#indef_mask = np.logical_or(indef_mask, master_cat[\"id\"]==11)\n",
    "#indef_mask = np.logical_or(indef_mask, master_cat[\"id\"]==13)\n",
    "master_indef = master_cat[no_qf_mask]\n"
   ]
  },
  {
   "cell_type": "markdown",
   "id": "91c21152-04cf-4cc1-be0f-ca5e5f5f5afd",
   "metadata": {},
   "source": [
    "The first thing we can try to do is to search for these indefinite flag cases in the CANDELS redshift catalog for GOODS-S from MAST  HLSP server : https://archive.stsci.edu/hlsp/candels/goods-s-catalogs"
   ]
  },
  {
   "cell_type": "code",
   "execution_count": null,
   "id": "dae6a6a8-1656-43c6-9dd8-e79bef56fa22",
   "metadata": {},
   "outputs": [],
   "source": [
    "f =open('data/hlsp_candels_hst_wfc3_goodss_multi_v2_redshift-cat.txt')\n",
    "#build the column names out of the header\n",
    "names = f.readlines()[3:60]\n",
    "names = [name[1:-2] for name in names]\n",
    "names[:9] = [name[3:] for name in names[:9]]\n",
    "names[10:] = [name[4:] for name in names[10:]]\n",
    "f.close()\n",
    "#now read the file as a DataFrame, and rename some columns to follow master conventions\n",
    "candels_table = pd.read_csv('data/hlsp_candels_hst_wfc3_goodss_multi_v2_redshift-cat.txt', sep = ' ', \\\n",
    "                            skiprows=61, header=None, names=names)\n",
    "candels_table.rename({'z_spec':'ZSPEC','RA (CANDELS.GOODSS.F160W.v1_1.photom.cat)':'RA',\\\n",
    "                      'DEC (CANDELS.GOODSS.F160W.v1_1.photom.cat)':'DEC'}, axis=1, inplace=True)\n",
    "#remove entries without a zspec; if a zspec is present, it is from a robust measurement.\n",
    "candels_table = candels_table[candels_table['ZSPEC']!=-1.]"
   ]
  },
  {
   "cell_type": "code",
   "execution_count": null,
   "id": "2744cc5a-2a52-469f-a30e-3819c16961b4",
   "metadata": {},
   "outputs": [],
   "source": [
    "# Spatial cross match\n",
    "cat1_c = SkyCoord(ra=np.array(master_indef['RA'])*u.degree, dec=np.array(master_indef['DEC'])*u.degree)\n",
    "cat2_c = SkyCoord(ra=np.array(candels_table['RA'])*u.degree, dec=np.array(candels_table['DEC'])*u.degree)\n",
    "# cat2_c = SkyCoord(ra=np.array(specz_table['RA'])*u.degree, dec=np.array(specz_table['DEC'])*u.degree)\n",
    "idx , d2d , d3d = cat1_c.match_to_catalog_sky(cat2_c)\n",
    "\n",
    "#list(idx)\n",
    "mask = np.logical_and((d2d<2.78e-5*u.degree),\n",
    "               abs(candels_table.iloc[idx][\"ZSPEC\"].values-master_indef[\"ZSPEC\"].values)<=1.e-3)\n",
    "\n"
   ]
  },
  {
   "cell_type": "code",
   "execution_count": null,
   "id": "8efd89ea-356b-4914-be3c-b0e8ac2aa7f3",
   "metadata": {},
   "outputs": [],
   "source": [
    "# Spatial cross match\n",
    "cat1_c = SkyCoord(ra=np.array(master_indef['RA'])*u.degree, dec=np.array(master_indef['DEC'])*u.degree)\n",
    "cat2_c = SkyCoord(ra=np.array(candels_table['RA'])*u.degree, dec=np.array(candels_table['DEC'])*u.degree)\n",
    "# cat2_c = SkyCoord(ra=np.array(specz_table['RA'])*u.degree, dec=np.array(specz_table['DEC'])*u.degree)\n",
    "idx , d2d , d3d = cat1_c.match_to_catalog_sky(cat2_c)\n",
    "\n",
    "\n",
    "for i in range(len(idx)):\n",
    "    #0.1\" match requested\n",
    "    if(d2d[i]<2.78e-5*u.degree):\n",
    "        if(abs(master_indef.iloc[i][\"ZSPEC\"]-candels_table.iloc[idx[i]][\"z_best\"])<=1.e-3):\n",
    "            #print(i, idx[i], d2d[i].degree, candels_table.iloc[idx[i]][\"z_best_type\"],candels_table.iloc[idx[i]][\"z_best\"],\\\n",
    "            #      master_indef.iloc[i][\"ZSPEC\"], candels_table.iloc[idx[i]][\"RA\"],candels_table.iloc[idx[i]][\"DEC\"],\\\n",
    "            #     master_indef.iloc[i][\"RA\"], master_indef.iloc[i][\"DEC\"])\n",
    "            #master_cat[no_qf_mask, \"Quality\"][i] =  candels_table.iloc[idx[i]][\"z_best_type\"]\n",
    "            #master_indef.iloc[i][\"Source\"] =  \"candels\"\n",
    "            master_cat.loc[no_qf_mask, \"Quality\"].iloc[i] = candels_table.iloc[idx[i]][\"z_best_type\"]\n",
    "            #master_cat.loc[no_qf_mask, \"Source\"].iloc[i] = \"candels\"\n",
    "master_cat.loc[no_qf_mask, \"Quality\"]"
   ]
  },
  {
   "cell_type": "code",
   "execution_count": null,
   "id": "be27f570-8459-4b7f-ae7e-fd31a30b0f95",
   "metadata": {},
   "outputs": [],
   "source": []
  }
 ],
 "metadata": {
  "kernelspec": {
   "display_name": "Python 3 (ipykernel)",
   "language": "python",
   "name": "python3"
  },
  "language_info": {
   "codemirror_mode": {
    "name": "ipython",
    "version": 3
   },
   "file_extension": ".py",
   "mimetype": "text/x-python",
   "name": "python",
   "nbconvert_exporter": "python",
   "pygments_lexer": "ipython3",
   "version": "3.12.4"
  }
 },
 "nbformat": 4,
 "nbformat_minor": 5
}
